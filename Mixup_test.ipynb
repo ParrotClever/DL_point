{
 "cells": [
  {
   "cell_type": "code",
   "execution_count": 1,
   "id": "8a369dcf-135c-4a3e-8bcb-a2c751404c05",
   "metadata": {},
   "outputs": [],
   "source": [
    "import torch\n",
    "import torch.nn as nn\n",
    "import torch.optim as optim\n",
    "from sklearn.datasets import load_breast_cancer\n",
    "from sklearn.model_selection import train_test_split\n",
    "from sklearn.preprocessing import StandardScaler\n",
    "from sklearn import metrics\n",
    "import numpy as np"
   ]
  },
  {
   "cell_type": "code",
   "execution_count": 12,
   "id": "32a2a453-729c-480d-a228-ac54cc4d8676",
   "metadata": {},
   "outputs": [],
   "source": [
    "# 加载数据集\n",
    "data = load_breast_cancer()\n",
    "X = data.data\n",
    "y = data.target\n",
    "\n",
    "# 数据标准化\n",
    "scaler = StandardScaler()\n",
    "X_scaled = scaler.fit_transform(X)\n",
    "\n",
    "# 数据集划分\n",
    "X_train, X_test, y_train, y_test = train_test_split(X_scaled, y, test_size=0.2, random_state=42)\n",
    "\n",
    "# 将数据转换为 PyTorch 张量\n",
    "X_train_tensor = torch.tensor(X_train, dtype=torch.float32)\n",
    "y_train_tensor = torch.tensor(y_train, dtype=torch.long)\n",
    "X_test_tensor = torch.tensor(X_test, dtype=torch.float32)\n",
    "y_test_tensor = torch.tensor(y_test, dtype=torch.long)"
   ]
  },
  {
   "cell_type": "code",
   "execution_count": 18,
   "id": "35add7f8-b3cc-4240-bf26-211a894dd7b8",
   "metadata": {},
   "outputs": [],
   "source": [
    "# # 构建简单的二分类模型\n",
    "# class SimpleNN(nn.Module):\n",
    "#     def __init__(self, input_dim):\n",
    "#         super(SimpleNN, self).__init__()\n",
    "#         self.fc1 = nn.Linear(input_dim, 64)\n",
    "#         self.fc2 = nn.Linear(64, 32)\n",
    "#         self.fc3 = nn.Linear(32, 2)  # 输出2个类别\n",
    "        \n",
    "#     def forward(self, x):\n",
    "#         x = torch.relu(self.fc1(x))\n",
    "#         x = torch.relu(self.fc2(x))\n",
    "#         x = self.fc3(x)\n",
    "#         return x"
   ]
  },
  {
   "cell_type": "code",
   "execution_count": 50,
   "id": "73830e7b-6d8b-4f4c-a6f1-172c09c7f9f0",
   "metadata": {},
   "outputs": [],
   "source": [
    "# Mixup 数据增强实现\n",
    "def mixup_data(x, y, alpha=1.0):\n",
    "    \"\"\" Mixup 数据增强：生成新的特征和标签 \"\"\"\n",
    "    lam = torch.rand(1).item() * alpha  # 随机生成 lambda 值\n",
    "    batch_size = x.size(0)\n",
    "    index = torch.randperm(batch_size).to(x.device)  # 随机打乱索引\n",
    "    \n",
    "    mixed_x = lam * x + (1 - lam) * x[index, :]\n",
    "    mixed_y = lam * y + (1 - lam) * y[index]  # 标签也进行加权插值\n",
    "    \n",
    "    return mixed_x, mixed_y, lam\n",
    "\n",
    "# 构建简单的二分类模型\n",
    "class SimpleNN(nn.Module):\n",
    "    def __init__(self, input_dim):\n",
    "        super(SimpleNN, self).__init__()\n",
    "        self.fc1 = nn.Linear(input_dim, 64)\n",
    "        self.fc2 = nn.Linear(64, 32)\n",
    "        self.fc3 = nn.Linear(32, 2)  # 输出2个类别，注意是二分类问题\n",
    "\n",
    "    def forward(self, x):\n",
    "        x = torch.relu(self.fc1(x))\n",
    "        x = torch.relu(self.fc2(x))\n",
    "        x = self.fc3(x)\n",
    "        return x"
   ]
  },
  {
   "cell_type": "code",
   "execution_count": 57,
   "id": "b38dd011-3c5a-4bd6-b2aa-f8a7b920299f",
   "metadata": {},
   "outputs": [],
   "source": [
    "# 初始化模型, 定义损失函数和优化器\n",
    "model = SimpleNN(X_train.shape[1])  # 输入维度为特征数量\n",
    "criterion = nn.CrossEntropyLoss()  # 使用交叉熵损失函数\n",
    "optimizer = optim.Adam(model.parameters(), lr=0.001)  # Adam优化器"
   ]
  },
  {
   "cell_type": "code",
   "execution_count": 58,
   "id": "a1d5216b-b278-4496-ac6c-fbb6abd33aaa",
   "metadata": {},
   "outputs": [
    {
     "name": "stdout",
     "output_type": "stream",
     "text": [
      "Epoch [10/30], Loss: 0.5355\n",
      "Epoch [20/30], Loss: 0.3792\n",
      "Epoch [30/30], Loss: 0.2394\n"
     ]
    }
   ],
   "source": [
    "# 训练模型\n",
    "num_epochs = 30\n",
    "for epoch in range(num_epochs):\n",
    "    model.train()\n",
    "\n",
    "    # 使用 Mixup 增强训练数据\n",
    "    mixed_X, mixed_y, lam = mixup_data(X_train_tensor, y_train_tensor, alpha=1.0)\n",
    "    \n",
    "    # 前向传播\n",
    "    outputs = model(X_train_tensor)\n",
    "    loss = criterion(outputs, y_train_tensor)\n",
    "    \n",
    "    # 反向传播\n",
    "    optimizer.zero_grad()\n",
    "    loss.backward()\n",
    "    optimizer.step()\n",
    "\n",
    "    if (epoch + 1) % 10 == 0:\n",
    "        print(f\"Epoch [{epoch+1}/{num_epochs}], Loss: {loss.item():.4f}\")"
   ]
  },
  {
   "cell_type": "code",
   "execution_count": 59,
   "id": "c624f120-d287-4577-8629-cd3827f2b5c7",
   "metadata": {},
   "outputs": [
    {
     "name": "stdout",
     "output_type": "stream",
     "text": [
      "Accuracy: 97.37%\n"
     ]
    }
   ],
   "source": [
    "# 评估模型准确率\n",
    "model.eval()  # 设置模型为评估模式\n",
    "with torch.no_grad():\n",
    "    # 预测\n",
    "    outputs = model(X_test_tensor)\n",
    "    _, predicted = torch.max(outputs, 1)\n",
    "    \n",
    "    # 计算准确率\n",
    "    accuracy = metrics.accuracy_score(y_test, predicted.numpy())\n",
    "    print(f\"Accuracy: {accuracy * 100:.2f}%\")\n"
   ]
  },
  {
   "cell_type": "code",
   "execution_count": null,
   "id": "17827b00-cad6-439f-bfbc-0cf3747022c5",
   "metadata": {},
   "outputs": [],
   "source": []
  },
  {
   "cell_type": "code",
   "execution_count": null,
   "id": "39263e4c-68b0-4613-a373-9f5bcf6958fd",
   "metadata": {},
   "outputs": [],
   "source": []
  }
 ],
 "metadata": {
  "kernelspec": {
   "display_name": "Python 3 (ipykernel)",
   "language": "python",
   "name": "python3"
  },
  "language_info": {
   "codemirror_mode": {
    "name": "ipython",
    "version": 3
   },
   "file_extension": ".py",
   "mimetype": "text/x-python",
   "name": "python",
   "nbconvert_exporter": "python",
   "pygments_lexer": "ipython3",
   "version": "3.11.5"
  }
 },
 "nbformat": 4,
 "nbformat_minor": 5
}
