{
 "cells": [
  {
   "cell_type": "code",
   "execution_count": 37,
   "id": "7a4e1e10-998b-42d0-afbe-55b81ef48b6f",
   "metadata": {},
   "outputs": [],
   "source": [
    "from sklearn import datasets\n",
    "import torch\n",
    "import torch.nn as nn\n",
    "import torch.optim as optim\n",
    "import torch.nn.functional as F\n",
    "from sklearn.model_selection import train_test_split\n",
    "from sklearn.preprocessing import StandardScaler\n",
    "from torch.utils.data import DataLoader, TensorDataset"
   ]
  },
  {
   "cell_type": "code",
   "execution_count": 38,
   "id": "43239964-a45f-4a6f-8e54-2b39236c77cc",
   "metadata": {},
   "outputs": [],
   "source": [
    "# 加载Iris数据集\n",
    "iris = datasets.load_iris()\n",
    "X = iris.data\n",
    "y = iris.target\n",
    "\n",
    "# 数据预处理：标准化\n",
    "scaler = StandardScaler()\n",
    "X = scaler.fit_transform(X)\n",
    "\n",
    "# 将数据集拆分为训练集和测试集\n",
    "X_train, X_test, y_train, y_test = train_test_split(X, y, test_size=0.2, random_state=42)\n",
    "\n",
    "# 将数据转换为Tensor\n",
    "X_train = torch.tensor(X_train, dtype=torch.float32)\n",
    "y_train = torch.tensor(y_train, dtype=torch.long)\n",
    "X_test = torch.tensor(X_test, dtype=torch.float32)\n",
    "y_test = torch.tensor(y_test, dtype=torch.long)\n",
    "\n",
    "# 创建DataLoader\n",
    "train_data = TensorDataset(X_train, y_train)\n",
    "test_data = TensorDataset(X_test, y_test)\n",
    "\n",
    "train_loader = DataLoader(train_data, batch_size=16, shuffle=True)\n",
    "test_loader = DataLoader(test_data, batch_size=16, shuffle=False)\n"
   ]
  },
  {
   "cell_type": "code",
   "execution_count": 39,
   "id": "b4af4921-a79d-443f-843d-dcc2ad4a64d1",
   "metadata": {},
   "outputs": [],
   "source": [
    "# 定义一个简单的神经网络\n",
    "class SimpleModel(nn.Module):\n",
    "    def __init__(self):\n",
    "        super(SimpleModel, self).__init__()\n",
    "        self.fc1 = nn.Linear(4, 16)  # 输入4个特征\n",
    "        self.fc2 = nn.Linear(16, 3)  # 输出3个类别（Setosa, Versicolor, Virginica）\n",
    "\n",
    "    def forward(self, x):\n",
    "        x = F.relu(self.fc1(x))\n",
    "        x = self.fc2(x)\n",
    "        return x"
   ]
  },
  {
   "cell_type": "code",
   "execution_count": 40,
   "id": "c6c718dd-a780-4617-914c-f1f92be4e3c8",
   "metadata": {},
   "outputs": [],
   "source": [
    "# 模型、损失函数和优化器\n",
    "model = SimpleModel()\n",
    "criterion = nn.CrossEntropyLoss()\n",
    "optimizer = optim.Adam(model.parameters(), lr=0.001)"
   ]
  },
  {
   "cell_type": "code",
   "execution_count": 30,
   "id": "b26494d0-75f8-41de-afb5-7f36d4adcfa1",
   "metadata": {},
   "outputs": [],
   "source": [
    "# 定义warm-up的策略：前5个epoch，学习率逐渐从0增大到初始值0.001\n",
    "def warm_up(epoch):\n",
    "    warm_up_epochs = 5\n",
    "    if epoch < warm_up_epochs:\n",
    "        return 10 * float(epoch + 1) / float(warm_up_epochs)\n",
    "    return 1.0"
   ]
  },
  {
   "cell_type": "code",
   "execution_count": 42,
   "id": "409c7f31-5193-422f-834e-bfe9488e259a",
   "metadata": {},
   "outputs": [
    {
     "name": "stdout",
     "output_type": "stream",
     "text": [
      "Epoch [1/20], Loss: 0.6306\n",
      "Epoch [2/20], Loss: 0.4714\n",
      "Epoch [3/20], Loss: 0.5722\n",
      "Epoch [4/20], Loss: 0.5641\n",
      "Epoch [5/20], Loss: 0.5238\n",
      "Epoch [6/20], Loss: 0.6420\n",
      "Epoch [7/20], Loss: 0.5159\n",
      "Epoch [8/20], Loss: 0.7078\n",
      "Epoch [9/20], Loss: 0.3290\n",
      "Epoch [10/20], Loss: 0.4055\n",
      "Epoch [11/20], Loss: 0.5817\n",
      "Epoch [12/20], Loss: 0.6311\n",
      "Epoch [13/20], Loss: 0.4636\n",
      "Epoch [14/20], Loss: 0.5794\n",
      "Epoch [15/20], Loss: 0.4240\n",
      "Epoch [16/20], Loss: 0.3031\n",
      "Epoch [17/20], Loss: 0.2813\n",
      "Epoch [18/20], Loss: 0.6013\n",
      "Epoch [19/20], Loss: 0.2927\n",
      "Epoch [20/20], Loss: 0.3778\n"
     ]
    }
   ],
   "source": [
    "# 训练循环\n",
    "num_epochs = 20\n",
    "for epoch in range(num_epochs):\n",
    "    model.train()\n",
    "    \n",
    "    running_loss = 0.0\n",
    "    for inputs, targets in train_loader:\n",
    "        optimizer.zero_grad()\n",
    "        \n",
    "        # 前向传播\n",
    "        outputs = model(inputs)\n",
    "        \n",
    "        # 计算损失\n",
    "        loss = criterion(outputs, targets)\n",
    "        loss.backward()\n",
    "        \n",
    "        # 更新权重\n",
    "        optimizer.step()\n",
    "    \n",
    "    # 输出当前epoch和损失\n",
    "    print(f\"Epoch [{epoch+1}/{num_epochs}], Loss: {loss.item():.4f}\")\n"
   ]
  }
 ],
 "metadata": {
  "kernelspec": {
   "display_name": "Python 3 (ipykernel)",
   "language": "python",
   "name": "python3"
  },
  "language_info": {
   "codemirror_mode": {
    "name": "ipython",
    "version": 3
   },
   "file_extension": ".py",
   "mimetype": "text/x-python",
   "name": "python",
   "nbconvert_exporter": "python",
   "pygments_lexer": "ipython3",
   "version": "3.8.5"
  }
 },
 "nbformat": 4,
 "nbformat_minor": 5
}
