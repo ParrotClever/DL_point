{
 "cells": [
  {
   "cell_type": "code",
   "execution_count": 2,
   "id": "8a369dcf-135c-4a3e-8bcb-a2c751404c05",
   "metadata": {},
   "outputs": [],
   "source": [
    "import torch\n",
    "import torch.nn as nn\n",
    "import torch.optim as optim\n",
    "from sklearn.datasets import load_breast_cancer\n",
    "from sklearn.model_selection import train_test_split\n",
    "from sklearn.preprocessing import StandardScaler\n",
    "from sklearn import metrics\n",
    "import numpy as np"
   ]
  },
  {
   "cell_type": "code",
   "execution_count": 3,
   "id": "32a2a453-729c-480d-a228-ac54cc4d8676",
   "metadata": {},
   "outputs": [],
   "source": [
    "# 加载数据集\n",
    "data = load_breast_cancer()\n",
    "X = data.data\n",
    "y = data.target\n",
    "\n",
    "# 数据标准化\n",
    "scaler = StandardScaler()\n",
    "X_scaled = scaler.fit_transform(X)\n",
    "\n",
    "# 数据集划分\n",
    "X_train, X_test, y_train, y_test = train_test_split(X_scaled, y, test_size=0.3, random_state=42)\n",
    "\n",
    "# 将数据转换为 PyTorch 张量\n",
    "X_train_tensor = torch.tensor(X_train, dtype=torch.float32)\n",
    "y_train_tensor = torch.tensor(y_train, dtype=torch.long)\n",
    "X_test_tensor = torch.tensor(X_test, dtype=torch.float32)\n",
    "y_test_tensor = torch.tensor(y_test, dtype=torch.long)"
   ]
  },
  {
   "cell_type": "code",
   "execution_count": 4,
   "id": "35add7f8-b3cc-4240-bf26-211a894dd7b8",
   "metadata": {},
   "outputs": [],
   "source": [
    "# # 构建简单的二分类模型\n",
    "# class SimpleNN(nn.Module):\n",
    "#     def __init__(self, input_dim):\n",
    "#         super(SimpleNN, self).__init__()\n",
    "#         self.fc1 = nn.Linear(input_dim, 64)\n",
    "#         self.fc2 = nn.Linear(64, 32)\n",
    "#         self.fc3 = nn.Linear(32, 3)  # 输出3个类别\n",
    "        \n",
    "#     def forward(self, x):\n",
    "#         x = torch.relu(self.fc1(x))\n",
    "#         x = torch.relu(self.fc2(x))\n",
    "#         x = self.fc3(x)\n",
    "#         return x"
   ]
  },
  {
   "cell_type": "code",
   "execution_count": 43,
   "id": "73830e7b-6d8b-4f4c-a6f1-172c09c7f9f0",
   "metadata": {},
   "outputs": [],
   "source": [
    "# 构建具有SE Layer的二分类模型\n",
    "class SELayer(nn.Module):\n",
    "    def __init__(self, channel, reduction=16):\n",
    "        super(SELayer, self).__init__()\n",
    "        # Squeeze阶段，使用全局平均池化\n",
    "        self.fc1 = nn.Linear(channel, channel // reduction, bias=False)\n",
    "        self.fc2 = nn.Linear(channel // reduction, channel, bias=False)\n",
    "        self.sigmoid = nn.Sigmoid()\n",
    "\n",
    "    def forward(self, x):\n",
    "        # Squeeze阶段: 全局平均池化\n",
    "        b, c, _, _ = x.size()  # 获取batch size, 通道数，宽度和高度\n",
    "        y = torch.mean(x, dim=[2, 3], keepdim=True)  # 全局平均池化\n",
    "        y = y.view(b, c)  # 重塑为 [b, c]\n",
    "        \n",
    "        # Excitation阶段: 通过两层全连接网络和Sigmoid激活函数生成权重\n",
    "        y = torch.relu(self.fc1(y))\n",
    "        y = self.fc2(y)\n",
    "        y = self.sigmoid(y).view(b, c, 1, 1)  # 重塑为 [b, c, 1, 1]\n",
    "\n",
    "        # Scaling阶段: 重新调整权重到输入x\n",
    "        return x * y.expand_as(x)\n",
    "\n",
    "# 简单的神经网络模型\n",
    "class SimpleNN(nn.Module):\n",
    "    def __init__(self, input_dim):\n",
    "        super(SimpleNN, self).__init__()\n",
    "        self.fc1 = nn.Linear(input_dim, 64)\n",
    "        self.fc2 = nn.Linear(64, 32)\n",
    "        self.fc3 = nn.Linear(32, 2)  # 输出2个类别\n",
    "        \n",
    "        # SE Layer, 假设输入特征经过fc2后为32个通道\n",
    "        self.se = SELayer(32)\n",
    "        \n",
    "    def forward(self, x):\n",
    "        x = torch.relu(self.fc1(x))\n",
    "        x = torch.relu(self.fc2(x))\n",
    "        \n",
    "        # 在此处应用SE层\n",
    "        x = self.se(x.unsqueeze(-1).unsqueeze(-1))  # 给x增加维度, [batch_size, 32, 1, 1]\n",
    "        \n",
    "        x = self.fc3(x.view(x.size(0), -1))  # 展平为 [batch_size, 32]\n",
    "        return x"
   ]
  },
  {
   "cell_type": "code",
   "execution_count": 44,
   "id": "b38dd011-3c5a-4bd6-b2aa-f8a7b920299f",
   "metadata": {},
   "outputs": [],
   "source": [
    "# 初始化模型, 定义损失函数和优化器\n",
    "model = SimpleNN(X_train.shape[1])  # 输入维度为特征数量\n",
    "criterion = nn.CrossEntropyLoss()  # 使用交叉熵损失函数\n",
    "optimizer = optim.Adam(model.parameters(), lr=0.001)  # Adam优化器"
   ]
  },
  {
   "cell_type": "code",
   "execution_count": 45,
   "id": "a1d5216b-b278-4496-ac6c-fbb6abd33aaa",
   "metadata": {},
   "outputs": [
    {
     "name": "stdout",
     "output_type": "stream",
     "text": [
      "Epoch [10/20], Loss: 0.6286\n",
      "Epoch [20/20], Loss: 0.5174\n"
     ]
    }
   ],
   "source": [
    "# 训练模型\n",
    "num_epochs = 20\n",
    "for epoch in range(num_epochs):\n",
    "    model.train()\n",
    "    \n",
    "    # 前向传播\n",
    "    outputs = model(X_train_tensor)\n",
    "    loss = criterion(outputs, y_train_tensor)\n",
    "    \n",
    "    # 反向传播\n",
    "    optimizer.zero_grad()\n",
    "    loss.backward()\n",
    "    optimizer.step()\n",
    "\n",
    "    if (epoch + 1) % 10 == 0:\n",
    "        print(f\"Epoch [{epoch+1}/{num_epochs}], Loss: {loss.item():.4f}\")"
   ]
  },
  {
   "cell_type": "code",
   "execution_count": 46,
   "id": "c624f120-d287-4577-8629-cd3827f2b5c7",
   "metadata": {},
   "outputs": [
    {
     "name": "stdout",
     "output_type": "stream",
     "text": [
      "Accuracy: 94.74%\n"
     ]
    }
   ],
   "source": [
    "# 评估模型准确率\n",
    "model.eval()  # 设置模型为评估模式\n",
    "with torch.no_grad():\n",
    "    # 预测\n",
    "    outputs = model(X_test_tensor)\n",
    "    _, predicted = torch.max(outputs, 1)\n",
    "    \n",
    "    # 计算准确率\n",
    "    accuracy = metrics.accuracy_score(y_test, predicted.numpy())\n",
    "    print(f\"Accuracy: {accuracy * 100:.2f}%\")\n"
   ]
  },
  {
   "cell_type": "code",
   "execution_count": null,
   "id": "17827b00-cad6-439f-bfbc-0cf3747022c5",
   "metadata": {},
   "outputs": [],
   "source": []
  },
  {
   "cell_type": "code",
   "execution_count": null,
   "id": "39263e4c-68b0-4613-a373-9f5bcf6958fd",
   "metadata": {},
   "outputs": [],
   "source": []
  }
 ],
 "metadata": {
  "kernelspec": {
   "display_name": "Python 3 (ipykernel)",
   "language": "python",
   "name": "python3"
  },
  "language_info": {
   "codemirror_mode": {
    "name": "ipython",
    "version": 3
   },
   "file_extension": ".py",
   "mimetype": "text/x-python",
   "name": "python",
   "nbconvert_exporter": "python",
   "pygments_lexer": "ipython3",
   "version": "3.8.5"
  }
 },
 "nbformat": 4,
 "nbformat_minor": 5
}
