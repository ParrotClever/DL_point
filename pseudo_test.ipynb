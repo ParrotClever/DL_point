{
 "cells": [
  {
   "cell_type": "code",
   "execution_count": 1,
   "id": "2a7bffb7-108d-46bc-9c3a-5b43ce630a4b",
   "metadata": {},
   "outputs": [
    {
     "name": "stderr",
     "output_type": "stream",
     "text": [
      "d:\\python_etc\\miniconda\\lib\\site-packages\\numpy\\_distributor_init.py:30: UserWarning: loaded more than 1 DLL from .libs:\n",
      "d:\\python_etc\\miniconda\\lib\\site-packages\\numpy\\.libs\\libopenblas.EL2C6PLE4ZYW3ECEVIV3OXXGRN2NRFM2.gfortran-win_amd64.dll\n",
      "d:\\python_etc\\miniconda\\lib\\site-packages\\numpy\\.libs\\libopenblas.GK7GX5KEQ4F6UYO3P26ULGBQYHGQO7J4.gfortran-win_amd64.dll\n",
      "  warnings.warn(\"loaded more than 1 DLL from .libs:\"\n"
     ]
    }
   ],
   "source": [
    "import numpy as np\n",
    "import xgboost as xgb\n",
    "from sklearn.datasets import load_digits\n",
    "from sklearn.model_selection import train_test_split\n",
    "from sklearn.metrics import accuracy_score\n",
    "from tqdm import tqdm"
   ]
  },
  {
   "cell_type": "code",
   "execution_count": 2,
   "id": "e8408cba-37b9-46a4-8bbd-7e2392d13b78",
   "metadata": {},
   "outputs": [],
   "source": [
    "# 加载 Digits 数据集\n",
    "digits = load_digits()\n",
    "X = digits.data\n",
    "y = digits.target"
   ]
  },
  {
   "cell_type": "code",
   "execution_count": 3,
   "id": "c200fac7-f7af-4a23-a612-7d5587ef5677",
   "metadata": {},
   "outputs": [],
   "source": [
    "# 切分训练集和测试集\n",
    "X_train, X_test, y_train, y_test = train_test_split(X, y, test_size=0.3, random_state=42)\n"
   ]
  },
  {
   "cell_type": "code",
   "execution_count": 4,
   "id": "574c1364-2103-45fc-a224-7f7dfaa1fef0",
   "metadata": {},
   "outputs": [],
   "source": [
    "# 训练基础 XGBoost 模型（使用 GPU 加速）\n",
    "xgb_model = xgb.XGBClassifier(\n",
    "    eval_metric='mlogloss',\n",
    "    tree_method='hist',  # GPU加速需要设置为\"hist\"\n",
    "    device='cuda',  # 使用GPU\n",
    ")"
   ]
  },
  {
   "cell_type": "code",
   "execution_count": 5,
   "id": "6f926ba3-bc1a-4198-b89f-b1b8a00d5bf6",
   "metadata": {},
   "outputs": [],
   "source": [
    "def train_with_progress(model, X_train, y_train, num_round=5):\n",
    "    for epoch in tqdm(range(num_round), desc=\"Training\", unit=\"epoch\"):\n",
    "        model.fit(X_train, y_train)"
   ]
  },
  {
   "cell_type": "code",
   "execution_count": 6,
   "id": "63a375d8-0d9b-4263-bd21-2a3b7f1f694e",
   "metadata": {},
   "outputs": [
    {
     "name": "stderr",
     "output_type": "stream",
     "text": [
      "Training: 100%|███████████████████████████████████████████████████████████████████████| 5/5 [00:05<00:00,  1.16s/epoch]\n"
     ]
    }
   ],
   "source": [
    "# 训练初始模型\n",
    "train_with_progress(xgb_model, X_train, y_train, num_round=5)"
   ]
  },
  {
   "cell_type": "code",
   "execution_count": 7,
   "id": "059a173b-3579-486e-a0af-1ab6ce35c9d4",
   "metadata": {},
   "outputs": [
    {
     "name": "stdout",
     "output_type": "stream",
     "text": [
      "Initial model accuracy: 0.9685\n"
     ]
    },
    {
     "name": "stderr",
     "output_type": "stream",
     "text": [
      "d:\\python_etc\\miniconda\\lib\\site-packages\\xgboost\\core.py:158: UserWarning: [10:39:11] WARNING: C:\\buildkite-agent\\builds\\buildkite-windows-cpu-autoscaling-group-i-0c55ff5f71b100e98-1\\xgboost\\xgboost-ci-windows\\src\\common\\error_msg.cc:58: Falling back to prediction using DMatrix due to mismatched devices. This might lead to higher memory usage and slower performance. XGBoost is running on: cuda:0, while the input data is on: cpu.\n",
      "Potential solutions:\n",
      "- Use a data structure that matches the device ordinal in the booster.\n",
      "- Set the device for booster before call to inplace_predict.\n",
      "\n",
      "This warning will only be shown once.\n",
      "\n",
      "  warnings.warn(smsg, UserWarning)\n"
     ]
    }
   ],
   "source": [
    "# 评估初始模型\n",
    "initial_preds = xgb_model.predict(X_test)\n",
    "initial_acc = accuracy_score(y_test, initial_preds)\n",
    "print(f\"Initial model accuracy: {initial_acc:.4f}\")"
   ]
  },
  {
   "cell_type": "code",
   "execution_count": 43,
   "id": "15ae3548-365c-43cf-8296-d070801cd7e7",
   "metadata": {},
   "outputs": [],
   "source": [
    "# 生成伪标签（把预测概率>= 0.8的拿来当训练集）\n",
    "probs = xgb_model.predict_proba(X_test) # 预测测试集\n",
    "pseudo_labels = np.argmax(probs, axis=1) # 将每个样本概率最大的类别作为标签\n",
    "confidences = np.max(probs, axis=1) #拿到标签概率\n",
    "high_confidence_indices = confidences >= 0.8 # 只要预测概率>=0.8的\n",
    "\n",
    "pseudo_images = X_test[high_confidence_indices]\n",
    "pseudo_labels = pseudo_labels[high_confidence_indices]\n",
    "\n",
    "# 扩充训练集\n",
    "expanded_train_images = np.vstack([X_train, pseudo_images])\n",
    "expanded_train_labels = np.hstack([y_train, pseudo_labels])"
   ]
  },
  {
   "cell_type": "code",
   "execution_count": 44,
   "id": "64cc7280-7702-4f47-95f0-ff1ca15e46a1",
   "metadata": {},
   "outputs": [],
   "source": [
    "# 重新训练模型\n",
    "xgb_model_expanded = xgb.XGBClassifier(\n",
    "    eval_metric='mlogloss',\n",
    "    tree_method='hist',  # GPU加速需要设置为\"hist\"\n",
    "    device='cuda',  # 使用GPU\n",
    ")"
   ]
  },
  {
   "cell_type": "code",
   "execution_count": 45,
   "id": "df6330b0-1742-40ab-b2ec-cb0c1b4e2e09",
   "metadata": {},
   "outputs": [
    {
     "name": "stderr",
     "output_type": "stream",
     "text": [
      "Training: 100%|███████████████████████████████████████████████████████████████████████| 5/5 [00:07<00:00,  1.47s/epoch]\n"
     ]
    }
   ],
   "source": [
    "train_with_progress(xgb_model_expanded, expanded_train_images, expanded_train_labels, num_round=5)\n"
   ]
  },
  {
   "cell_type": "code",
   "execution_count": 46,
   "id": "c4ba38ba-0c6c-4f27-b7df-bbd7613f7bed",
   "metadata": {},
   "outputs": [
    {
     "name": "stdout",
     "output_type": "stream",
     "text": [
      "Expanded model accuracy: 0.9741\n"
     ]
    }
   ],
   "source": [
    "# 评估扩展后的模型\n",
    "expanded_preds = xgb_model_expanded.predict(X_test)\n",
    "expanded_acc = accuracy_score(y_test, expanded_preds)\n",
    "print(f\"Expanded model accuracy: {expanded_acc:.4f}\")"
   ]
  },
  {
   "cell_type": "code",
   "execution_count": null,
   "id": "67ee1a09-5c01-4344-86a0-43c2f72f56e3",
   "metadata": {},
   "outputs": [],
   "source": []
  }
 ],
 "metadata": {
  "kernelspec": {
   "display_name": "Python 3 (ipykernel)",
   "language": "python",
   "name": "python3"
  },
  "language_info": {
   "codemirror_mode": {
    "name": "ipython",
    "version": 3
   },
   "file_extension": ".py",
   "mimetype": "text/x-python",
   "name": "python",
   "nbconvert_exporter": "python",
   "pygments_lexer": "ipython3",
   "version": "3.8.5"
  }
 },
 "nbformat": 4,
 "nbformat_minor": 5
}
