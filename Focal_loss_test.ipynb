{
 "cells": [
  {
   "cell_type": "code",
   "execution_count": 14,
   "id": "82f60d71-e1f8-40cc-9995-bca739246c3d",
   "metadata": {},
   "outputs": [],
   "source": [
    "import torch\n",
    "import torch.nn as nn\n",
    "import torch.optim as optim\n",
    "from sklearn.datasets import make_classification\n",
    "from sklearn.model_selection import train_test_split\n",
    "from sklearn.preprocessing import StandardScaler\n",
    "from sklearn.metrics import accuracy_score\n",
    "import numpy as np\n",
    "from sklearn.metrics import f1_score"
   ]
  },
  {
   "cell_type": "code",
   "execution_count": 65,
   "id": "2fb19eb2-130e-4918-8ebf-cfc28bee06fb",
   "metadata": {},
   "outputs": [],
   "source": [
    "# 生成类别不平衡的数据集\n",
    "X, y = make_classification(\n",
    "    n_samples=100, n_features=200, n_informative=2, n_redundant=10, \n",
    "    n_clusters_per_class=1, weights=[0.95, 0.05], flip_y=0, random_state=42\n",
    ")\n",
    "\n",
    "# 数据标准化\n",
    "scaler = StandardScaler()\n",
    "X_scaled = scaler.fit_transform(X)\n",
    "\n",
    "# 数据集划分\n",
    "X_train, X_test, y_train, y_test = train_test_split(X_scaled, y, test_size=0.3, random_state=42)\n",
    "\n",
    "# 转换为 PyTorch 张量\n",
    "X_train_tensor = torch.tensor(X_train, dtype=torch.float32)\n",
    "y_train_tensor = torch.tensor(y_train, dtype=torch.long)\n",
    "X_test_tensor = torch.tensor(X_test, dtype=torch.float32)\n",
    "y_test_tensor = torch.tensor(y_test, dtype=torch.long)"
   ]
  },
  {
   "cell_type": "code",
   "execution_count": 66,
   "id": "c15887ca-cbc4-45eb-88f1-1b12471cebf5",
   "metadata": {},
   "outputs": [],
   "source": [
    "# 构建普通的简单神经网络（使用交叉熵损失）\n",
    "class SimpleNN(nn.Module):\n",
    "    def __init__(self, input_dim):\n",
    "        super(SimpleNN, self).__init__()\n",
    "        self.fc1 = nn.Linear(input_dim, 64)\n",
    "        self.fc2 = nn.Linear(64, 32)\n",
    "        self.fc3 = nn.Linear(32, 2)\n",
    "\n",
    "    def forward(self, x):\n",
    "        x = torch.relu(self.fc1(x))\n",
    "        x = torch.relu(self.fc2(x))\n",
    "        x = self.fc3(x)\n",
    "        return x"
   ]
  },
  {
   "cell_type": "code",
   "execution_count": 67,
   "id": "e3ae016e-7554-4a59-a80c-adec319949ea",
   "metadata": {},
   "outputs": [],
   "source": [
    "# 训练模型的函数\n",
    "def train_model(model, criterion, optimizer, num_epochs=20):\n",
    "    for epoch in range(num_epochs):\n",
    "        model.train()\n",
    "        outputs = model(X_train_tensor)\n",
    "        loss = criterion(outputs, y_train_tensor)\n",
    "        \n",
    "        optimizer.zero_grad()\n",
    "        loss.backward()\n",
    "        optimizer.step()"
   ]
  },
  {
   "cell_type": "code",
   "execution_count": 68,
   "id": "fc4518aa-a6db-44e0-be80-09232318a400",
   "metadata": {},
   "outputs": [],
   "source": [
    "# 使用普通神经网络（交叉熵损失）\n",
    "model_ce = SimpleNN(X_train.shape[1])\n",
    "criterion_ce = nn.CrossEntropyLoss()  # 交叉熵损失\n",
    "optimizer_ce = optim.Adam(model_ce.parameters(), lr=0.001)\n",
    "\n",
    "# 训练普通神经网络\n",
    "train_model(model_ce, criterion_ce, optimizer_ce, num_epochs=20)"
   ]
  },
  {
   "cell_type": "code",
   "execution_count": 69,
   "id": "29701366-be55-4b78-b304-c9330ddec173",
   "metadata": {},
   "outputs": [],
   "source": [
    "# 使用 Focal Loss 神经网络\n",
    "class FocalLoss(nn.Module):\n",
    "    def __init__(self, alpha=0.25, gamma=2.0):\n",
    "        super(FocalLoss, self).__init__()\n",
    "        self.alpha = alpha\n",
    "        self.gamma = gamma\n",
    "\n",
    "    def forward(self, inputs, targets):\n",
    "        # 计算预测概率\n",
    "        log_pt = nn.functional.log_softmax(inputs, dim=1)\n",
    "        pt = torch.exp(log_pt)\n",
    "        \n",
    "        # 计算 Focal Loss\n",
    "        loss = -self.alpha * (1 - pt) ** self.gamma * log_pt\n",
    "        return loss.mean()"
   ]
  },
  {
   "cell_type": "code",
   "execution_count": 70,
   "id": "ed10bfe8-0b0d-428d-bd26-b95be3011375",
   "metadata": {},
   "outputs": [],
   "source": [
    "# 训练 Focal Loss 神经网络的函数\n",
    "def train_focal_model(model, criterion, optimizer, num_epochs=20):\n",
    "    for epoch in range(num_epochs):\n",
    "        model.train()\n",
    "        outputs = model(X_train_tensor)\n",
    "        loss = criterion(outputs, y_train_tensor)\n",
    "        \n",
    "        optimizer.zero_grad()\n",
    "        loss.backward()\n",
    "        optimizer.step()"
   ]
  },
  {
   "cell_type": "code",
   "execution_count": 171,
   "id": "532e6197-c3bd-462b-954d-c95c750afe3a",
   "metadata": {},
   "outputs": [],
   "source": [
    "# 使用 Focal Loss 训练模型\n",
    "model_focal = SimpleNN(X_train.shape[1])\n",
    "criterion_focal = FocalLoss(alpha=0.4, gamma=2.0)\n",
    "optimizer_focal = optim.Adam(model_focal.parameters(), lr=0.001)\n",
    "\n",
    "# 训练 Focal Loss 神经网络\n",
    "train_focal_model(model_focal, criterion_focal, optimizer_focal, num_epochs=20)\n"
   ]
  },
  {
   "cell_type": "code",
   "execution_count": 172,
   "id": "0ae08321-88b4-4bac-94e7-3dc69e0c9b0b",
   "metadata": {},
   "outputs": [],
   "source": [
    "# 评估模型并计算 F1 分数\n",
    "def evaluate_model_f1(model, X_test_tensor, y_test_tensor):\n",
    "    model.eval()\n",
    "    with torch.no_grad():\n",
    "        outputs = model(X_test_tensor)\n",
    "        _, predicted = torch.max(outputs, 1)\n",
    "        # 计算 F1 分数\n",
    "        f1 = f1_score(y_test_tensor.numpy(), predicted.numpy())\n",
    "    return f1"
   ]
  },
  {
   "cell_type": "code",
   "execution_count": 173,
   "id": "0e9505cd-ae08-4957-ab90-1ad3cd968e98",
   "metadata": {},
   "outputs": [
    {
     "name": "stdout",
     "output_type": "stream",
     "text": [
      "F1 score of the model with CrossEntropyLoss: 0.0000\n"
     ]
    }
   ],
   "source": [
    "# 评估普通神经网络（交叉熵损失）F1 分数\n",
    "f1_ce = evaluate_model_f1(model_ce, X_test_tensor, y_test_tensor)\n",
    "print(f\"F1 score of the model with CrossEntropyLoss: {f1_ce:.4f}\")"
   ]
  },
  {
   "cell_type": "code",
   "execution_count": 174,
   "id": "80a00d84-a128-4204-9b0b-269bd476dfed",
   "metadata": {},
   "outputs": [
    {
     "name": "stdout",
     "output_type": "stream",
     "text": [
      "F1 score of the model with FocalLoss: 0.4286\n"
     ]
    }
   ],
   "source": [
    "# 评估 Focal Loss 神经网络的 F1 分数\n",
    "f1_focal = evaluate_model_f1(model_focal, X_test_tensor, y_test_tensor)\n",
    "print(f\"F1 score of the model with FocalLoss: {f1_focal:.4f}\")"
   ]
  },
  {
   "cell_type": "code",
   "execution_count": null,
   "id": "8afeae36-66aa-4913-ad67-532b38080c8a",
   "metadata": {},
   "outputs": [],
   "source": []
  },
  {
   "cell_type": "code",
   "execution_count": null,
   "id": "ac193653-ac32-4abd-a7dc-8e261d69b3b3",
   "metadata": {},
   "outputs": [],
   "source": []
  }
 ],
 "metadata": {
  "kernelspec": {
   "display_name": "Python 3 (ipykernel)",
   "language": "python",
   "name": "python3"
  },
  "language_info": {
   "codemirror_mode": {
    "name": "ipython",
    "version": 3
   },
   "file_extension": ".py",
   "mimetype": "text/x-python",
   "name": "python",
   "nbconvert_exporter": "python",
   "pygments_lexer": "ipython3",
   "version": "3.11.5"
  }
 },
 "nbformat": 4,
 "nbformat_minor": 5
}
