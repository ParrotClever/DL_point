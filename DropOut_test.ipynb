{
 "cells": [
  {
   "cell_type": "code",
   "execution_count": 1,
   "id": "8a369dcf-135c-4a3e-8bcb-a2c751404c05",
   "metadata": {},
   "outputs": [
    {
     "name": "stderr",
     "output_type": "stream",
     "text": [
      "d:\\python_etc\\miniconda\\lib\\site-packages\\numpy\\_distributor_init.py:30: UserWarning: loaded more than 1 DLL from .libs:\n",
      "d:\\python_etc\\miniconda\\lib\\site-packages\\numpy\\.libs\\libopenblas.EL2C6PLE4ZYW3ECEVIV3OXXGRN2NRFM2.gfortran-win_amd64.dll\n",
      "d:\\python_etc\\miniconda\\lib\\site-packages\\numpy\\.libs\\libopenblas.GK7GX5KEQ4F6UYO3P26ULGBQYHGQO7J4.gfortran-win_amd64.dll\n",
      "  warnings.warn(\"loaded more than 1 DLL from .libs:\"\n"
     ]
    }
   ],
   "source": [
    "\"\"\"用于Embedding\"\"\"\n",
    "import torch\n",
    "import torch.nn as nn\n",
    "\n",
    "embedding_layer = nn.Embedding(num_embeddings=10000, embedding_dim=300)\n",
    "dropout_layer = nn.Dropout(p=0.5)\n",
    "\n",
    "x = torch.randint(0, 10000, (32, 10))  # 随机生成一个批次的词 ID\n",
    "embedded_x = embedding_layer(x)       # 转为嵌入向量\n",
    "dropped_x = dropout_layer(embedded_x) # 应用 Dropout"
   ]
  },
  {
   "cell_type": "code",
   "execution_count": 2,
   "id": "32a2a453-729c-480d-a228-ac54cc4d8676",
   "metadata": {},
   "outputs": [],
   "source": [
    "\"\"\"用于Attention\"\"\"\n",
    "import torch\n",
    "import torch.nn as nn\n",
    "\n",
    "# Multi-Head Attention\n",
    "attention_layer = nn.MultiheadAttention(embed_dim=512, num_heads=8, dropout=0.1)\n",
    "\n",
    "# 输入\n",
    "query = torch.rand(10, 32, 512)  # [sequence_length, batch_size, embedding_dim]\n",
    "key = torch.rand(10, 32, 512)\n",
    "value = torch.rand(10, 32, 512)\n",
    "\n",
    "# 计算注意力\n",
    "attn_output, attn_weights = attention_layer(query, key, value)"
   ]
  },
  {
   "cell_type": "code",
   "execution_count": 3,
   "id": "35add7f8-b3cc-4240-bf26-211a894dd7b8",
   "metadata": {},
   "outputs": [],
   "source": [
    "\"\"\"用于FFN\"\"\"\n",
    "import torch\n",
    "import torch.nn as nn\n",
    "\n",
    "class FFN(nn.Module):\n",
    "    def __init__(self, d_model, d_ff, dropout=0.1):\n",
    "        super(FFN, self).__init__()\n",
    "        self.fc1 = nn.Linear(d_model, d_ff)\n",
    "        self.dropout = nn.Dropout(dropout)\n",
    "        self.fc2 = nn.Linear(d_ff, d_model)\n",
    "\n",
    "    def forward(self, x):\n",
    "        x = torch.relu(self.fc1(x))\n",
    "        x = self.dropout(x)  # Dropout 应用在第一层全连接后的激活输出\n",
    "        x = self.fc2(x)\n",
    "        return x\n",
    "\n",
    "ffn_layer = FFN(d_model=512, d_ff=2048)\n",
    "x = torch.rand(32, 512)\n",
    "output = ffn_layer(x)\n"
   ]
  },
  {
   "cell_type": "code",
   "execution_count": 4,
   "id": "73830e7b-6d8b-4f4c-a6f1-172c09c7f9f0",
   "metadata": {},
   "outputs": [],
   "source": [
    "\"\"\"用于CNN\"\"\"\n",
    "import torch\n",
    "import torch.nn as nn\n",
    "\n",
    "class CNN(nn.Module):\n",
    "    def __init__(self, dropout_prob=0.5):\n",
    "        super(CNN, self).__init__()\n",
    "        self.conv1 = nn.Conv2d(1, 32, kernel_size=3, stride=1, padding=1)\n",
    "        self.conv2 = nn.Conv2d(32, 64, kernel_size=3, stride=1, padding=1)\n",
    "        self.dropout = nn.Dropout(dropout_prob)\n",
    "        self.fc = nn.Linear(64*28*28, 10)  # 假设输入图片大小为 28x28\n",
    "\n",
    "    def forward(self, x):\n",
    "        x = torch.relu(self.conv1(x))\n",
    "        x = torch.relu(self.conv2(x))\n",
    "        x = x.view(x.size(0), -1)  # Flatten\n",
    "        x = self.dropout(x)  # Dropout 应用在全连接层之前\n",
    "        x = self.fc(x)\n",
    "        return x\n"
   ]
  },
  {
   "cell_type": "code",
   "execution_count": 5,
   "id": "b38dd011-3c5a-4bd6-b2aa-f8a7b920299f",
   "metadata": {},
   "outputs": [],
   "source": [
    "\"\"\"用于ResNet\"\"\"\n",
    "class ResNetBlock(nn.Module):\n",
    "    def __init__(self, in_channels, out_channels, dropout_prob=0.5):\n",
    "        super(ResNetBlock, self).__init__()\n",
    "        self.conv1 = nn.Conv2d(in_channels, out_channels, kernel_size=3, stride=1, padding=1)\n",
    "        self.conv2 = nn.Conv2d(out_channels, out_channels, kernel_size=3, stride=1, padding=1)\n",
    "        self.dropout = nn.Dropout(dropout_prob)\n",
    "        self.shortcut = nn.Conv2d(in_channels, out_channels, kernel_size=1, stride=1)\n",
    "\n",
    "    def forward(self, x):\n",
    "        residual = self.shortcut(x)\n",
    "        x = torch.relu(self.conv1(x))\n",
    "        x = torch.relu(self.conv2(x))\n",
    "        x = self.dropout(x)  # Dropout 在残差块的输出部分\n",
    "        x += residual  # 加入残差连接\n",
    "        return x\n"
   ]
  },
  {
   "cell_type": "code",
   "execution_count": 6,
   "id": "a1d5216b-b278-4496-ac6c-fbb6abd33aaa",
   "metadata": {},
   "outputs": [],
   "source": [
    "\"\"\"用于RNN\"\"\"\n",
    "class RNNModel(nn.Module):\n",
    "    def __init__(self, input_size, hidden_size, output_size, dropout_prob=0.5):\n",
    "        super(RNNModel, self).__init__()\n",
    "        self.rnn = nn.LSTM(input_size, hidden_size, batch_first=True)\n",
    "        self.dropout = nn.Dropout(dropout_prob)\n",
    "        self.fc = nn.Linear(hidden_size, output_size)\n",
    "\n",
    "    def forward(self, x):\n",
    "        out, _ = self.rnn(x)\n",
    "        out = self.dropout(out)  # Dropout 应用于 RNN 的输出\n",
    "        out = self.fc(out[:, -1, :])  # 取最后一个时间步的输出\n",
    "        return out\n"
   ]
  },
  {
   "cell_type": "code",
   "execution_count": 7,
   "id": "c624f120-d287-4577-8629-cd3827f2b5c7",
   "metadata": {},
   "outputs": [],
   "source": [
    "\"\"\"用于BN\"\"\"\n",
    "class CNNWithBN(nn.Module):\n",
    "    def __init__(self, dropout_prob=0.5):\n",
    "        super(CNNWithBN, self).__init__()\n",
    "        self.conv1 = nn.Conv2d(1, 32, kernel_size=3, stride=1, padding=1)\n",
    "        self.bn1 = nn.BatchNorm2d(32)\n",
    "        self.dropout = nn.Dropout(dropout_prob)\n",
    "        self.fc = nn.Linear(32*28*28, 10)\n",
    "\n",
    "    def forward(self, x):\n",
    "        x = torch.relu(self.bn1(self.conv1(x)))  # BatchNorm 后激活\n",
    "        x = self.dropout(x)  # Dropout 后添加到网络\n",
    "        x = x.view(x.size(0), -1)\n",
    "        x = self.fc(x)\n",
    "        return x\n"
   ]
  },
  {
   "cell_type": "code",
   "execution_count": null,
   "id": "17827b00-cad6-439f-bfbc-0cf3747022c5",
   "metadata": {},
   "outputs": [],
   "source": []
  },
  {
   "cell_type": "code",
   "execution_count": null,
   "id": "39263e4c-68b0-4613-a373-9f5bcf6958fd",
   "metadata": {},
   "outputs": [],
   "source": []
  }
 ],
 "metadata": {
  "kernelspec": {
   "display_name": "Python 3 (ipykernel)",
   "language": "python",
   "name": "python3"
  },
  "language_info": {
   "codemirror_mode": {
    "name": "ipython",
    "version": 3
   },
   "file_extension": ".py",
   "mimetype": "text/x-python",
   "name": "python",
   "nbconvert_exporter": "python",
   "pygments_lexer": "ipython3",
   "version": "3.8.5"
  }
 },
 "nbformat": 4,
 "nbformat_minor": 5
}
