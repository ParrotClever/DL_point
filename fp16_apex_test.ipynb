{
 "cells": [
  {
   "cell_type": "code",
   "execution_count": 1,
   "id": "5f3fa6a3-f4e4-42fa-9823-b47f25bf6749",
   "metadata": {},
   "outputs": [],
   "source": [
    "import torch\n",
    "import torch.nn as nn\n",
    "import torch.optim as optim\n",
    "from apex import amp\n",
    "from torch.utils.data import DataLoader, TensorDataset\n",
    "import time"
   ]
  },
  {
   "cell_type": "code",
   "execution_count": 2,
   "id": "3f475282-e751-47ba-9a8f-80e9e4ce911c",
   "metadata": {},
   "outputs": [
    {
     "name": "stdout",
     "output_type": "stream",
     "text": [
      "使用设备: cuda\n"
     ]
    }
   ],
   "source": [
    "# 检查CUDA是否可用\n",
    "device = torch.device('cuda' if torch.cuda.is_available() else 'cpu')\n",
    "print(f'使用设备: {device}')"
   ]
  },
  {
   "cell_type": "code",
   "execution_count": 3,
   "id": "747489b9-34b2-4333-8c14-663bda2bc7cf",
   "metadata": {},
   "outputs": [],
   "source": [
    "# 定义一个简单的线性模型\n",
    "class SimpleModel(nn.Module):\n",
    "    def __init__(self, input_size, output_size):\n",
    "        super(SimpleModel, self).__init__()\n",
    "        self.linear = nn.Linear(input_size, output_size)\n",
    "    \n",
    "    def forward(self, x):\n",
    "        return self.linear(x)"
   ]
  },
  {
   "cell_type": "code",
   "execution_count": 4,
   "id": "9ee516fd-45f0-4c75-977a-61da202cf102",
   "metadata": {},
   "outputs": [],
   "source": [
    "# 初始化模型、损失函数和优化器\n",
    "input_size = 100    # 输入特征数量增加至100\n",
    "output_size = 1     # 输出特征数量保持不变\n",
    "model = SimpleModel(input_size=input_size, output_size=output_size).to(device)\n",
    "criterion = nn.MSELoss()\n",
    "optimizer = optim.Adam(model.parameters(), lr=1e-3)  # 调整学习率"
   ]
  },
  {
   "cell_type": "code",
   "execution_count": 5,
   "id": "27b99adb-0416-4202-b2d2-6294f53b97ae",
   "metadata": {
    "scrolled": true
   },
   "outputs": [
    {
     "name": "stdout",
     "output_type": "stream",
     "text": [
      "Selected optimization level O1:  Insert automatic casts around Pytorch functions and Tensor methods.\n",
      "\n",
      "Defaults for this optimization level are:\n",
      "enabled                : True\n",
      "opt_level              : O1\n",
      "cast_model_type        : None\n",
      "patch_torch_functions  : True\n",
      "keep_batchnorm_fp32    : None\n",
      "master_weights         : None\n",
      "loss_scale             : dynamic\n",
      "Processing user overrides (additional kwargs that are not None)...\n",
      "After processing overrides, optimization options are:\n",
      "enabled                : True\n",
      "opt_level              : O1\n",
      "cast_model_type        : None\n",
      "patch_torch_functions  : True\n",
      "keep_batchnorm_fp32    : None\n",
      "master_weights         : None\n",
      "loss_scale             : dynamic\n",
      "Warning:  multi_tensor_applier fused unscale kernel is unavailable, possibly because apex was installed without --cuda_ext --cpp_ext. Using Python fallback.  Original ImportError was: ModuleNotFoundError(\"No module named 'amp_C'\")\n"
     ]
    },
    {
     "name": "stderr",
     "output_type": "stream",
     "text": [
      "D:\\python_etc\\miniconda\\envs\\py3109\\lib\\site-packages\\apex-0.1-py3.10.egg\\apex\\__init__.py:68: DeprecatedFeatureWarning: apex.amp is deprecated and will be removed by the end of February 2023. Use [PyTorch AMP](https://pytorch.org/docs/stable/amp.html)\n",
      "  warnings.warn(msg, DeprecatedFeatureWarning)\n",
      "D:\\python_etc\\miniconda\\envs\\py3109\\lib\\site-packages\\apex-0.1-py3.10.egg\\apex\\amp\\scaler.py:56: UserWarning: The torch.cuda.*DtypeTensor constructors are no longer recommended. It's best to use methods such as torch.tensor(data, dtype=*, device='cuda') to create tensors. (Triggered internally at C:\\actions-runner\\_work\\pytorch\\pytorch\\builder\\windows\\pytorch\\torch\\csrc\\tensor\\python_tensor.cpp:80.)\n",
      "  self._overflow_buf = torch.cuda.IntTensor([0])\n"
     ]
    }
   ],
   "source": [
    "# 使用 APEX 的 amp 初始化模型和优化器，设置为混合精度O3，即纯fp16\n",
    "model, optimizer = amp.initialize(model, optimizer, opt_level='O3')"
   ]
  },
  {
   "cell_type": "code",
   "execution_count": 6,
   "id": "5e6e424f-c430-419e-a6c9-28719afd2628",
   "metadata": {},
   "outputs": [],
   "source": [
    "# 生成一些虚拟数据\n",
    "num_samples = 100000  # 样本数量\n",
    "X = torch.randn(num_samples, input_size).to(device).half()    # 输入为 fp16\n",
    "y = torch.randn(num_samples, output_size).to(device)          # 目标为 fp32\n",
    "\n",
    "# 创建数据集和数据加载器\n",
    "dataset = TensorDataset(X, y)\n",
    "batch_size = 1024  # 适当增大批量大小\n",
    "train_loader = DataLoader(dataset, batch_size=batch_size, shuffle=True)"
   ]
  },
  {
   "cell_type": "code",
   "execution_count": 7,
   "id": "76d15896-25a8-4fab-a555-765de10011c0",
   "metadata": {},
   "outputs": [
    {
     "name": "stdout",
     "output_type": "stream",
     "text": [
      "Epoch [1/10], Loss: 1.1212\n",
      "Epoch [2/10], Loss: 1.0003\n",
      "Epoch [3/10], Loss: 0.9969\n",
      "Epoch [4/10], Loss: 0.9971\n",
      "Epoch [5/10], Loss: 0.9970\n",
      "Epoch [6/10], Loss: 0.9971\n",
      "Epoch [7/10], Loss: 0.9973\n",
      "Epoch [8/10], Loss: 0.9973\n",
      "Epoch [9/10], Loss: 0.9977\n",
      "Epoch [10/10], Loss: 0.9977\n",
      "Training time: 13.90 seconds\n"
     ]
    }
   ],
   "source": [
    "# 记录训练开始时间\n",
    "start_time = time.time()\n",
    "\n",
    "# 训练循环\n",
    "num_epochs = 10\n",
    "model.train()\n",
    "for epoch in range(num_epochs):\n",
    "    epoch_loss = 0.0\n",
    "    for batch_idx, (inputs, targets) in enumerate(train_loader):\n",
    "        optimizer.zero_grad()\n",
    "        \n",
    "\n",
    "        inputs = inputs.to(device)\n",
    "        targets = targets.to(device)\n",
    "        \n",
    "        outputs = model(inputs)\n",
    "        loss = criterion(outputs, targets)\n",
    "        \n",
    "        # 使用 amp.scale_loss 来缩放损失，避免梯度下溢\n",
    "        with amp.scale_loss(loss, optimizer) as scaled_loss:\n",
    "            scaled_loss.backward()\n",
    "        \n",
    "        optimizer.step()\n",
    "        \n",
    "        epoch_loss += loss.item()\n",
    "    \n",
    "    # 计算平均损失\n",
    "    avg_epoch_loss = epoch_loss / len(train_loader)\n",
    "    print(f'Epoch [{epoch+1}/{num_epochs}], Loss: {avg_epoch_loss:.4f}')\n",
    "\n",
    "# 计算并打印训练总时间\n",
    "end_time = time.time()\n",
    "training_time = end_time - start_time\n",
    "print(f\"Training time: {training_time:.2f} seconds\")"
   ]
  },
  {
   "cell_type": "code",
   "execution_count": null,
   "id": "08924cf9-a921-4d23-9b9d-5c1346989a4f",
   "metadata": {},
   "outputs": [],
   "source": []
  }
 ],
 "metadata": {
  "kernelspec": {
   "display_name": "Python 3 (ipykernel)",
   "language": "python",
   "name": "python3"
  },
  "language_info": {
   "codemirror_mode": {
    "name": "ipython",
    "version": 3
   },
   "file_extension": ".py",
   "mimetype": "text/x-python",
   "name": "python",
   "nbconvert_exporter": "python",
   "pygments_lexer": "ipython3",
   "version": "3.10.9"
  }
 },
 "nbformat": 4,
 "nbformat_minor": 5
}
