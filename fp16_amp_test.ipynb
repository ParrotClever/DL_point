{
 "cells": [
  {
   "cell_type": "code",
   "execution_count": 14,
   "id": "d9411248-d60b-43e4-8b43-eec903eb83f2",
   "metadata": {},
   "outputs": [],
   "source": [
    "import torch\n",
    "import torch.nn as nn\n",
    "import torch.optim as optim\n",
    "from torch.cuda.amp import GradScaler, autocast\n",
    "from torch.utils.data import DataLoader, TensorDataset\n",
    "import time"
   ]
  },
  {
   "cell_type": "code",
   "execution_count": 15,
   "id": "d995a52a-d6e8-46af-8ab5-4bc76eb278bf",
   "metadata": {},
   "outputs": [],
   "source": [
    "# 定义简单的CNN模型\n",
    "class SimpleCNN(nn.Module):\n",
    "    def __init__(self):\n",
    "        super(SimpleCNN, self).__init__()\n",
    "        self.conv1 = nn.Conv2d(1, 32, kernel_size=3, stride=1, padding=1)\n",
    "        self.conv2 = nn.Conv2d(32, 64, kernel_size=3, stride=1, padding=1)\n",
    "        self.fc1 = nn.Linear(64*7*7, 128)\n",
    "        self.fc2 = nn.Linear(128, 10)\n",
    "\n",
    "    def forward(self, x):\n",
    "        x = torch.relu(self.conv1(x))\n",
    "        x = torch.max_pool2d(x, 2)\n",
    "        x = torch.relu(self.conv2(x))\n",
    "        x = torch.max_pool2d(x, 2)\n",
    "        x = x.view(x.size(0), -1)  # Flatten the tensor\n",
    "        x = torch.relu(self.fc1(x))\n",
    "        x = self.fc2(x)\n",
    "        return x"
   ]
  },
  {
   "cell_type": "code",
   "execution_count": 31,
   "id": "b6953dc2-9b20-437a-bf0c-1d34bf171d42",
   "metadata": {},
   "outputs": [],
   "source": [
    "# 生成随机数据：假设我们需要1000张28x28的单通道图像，和对应的标签\n",
    "num_samples = 15000\n",
    "image_size = (28, 28)\n",
    "\n",
    "# 随机生成图像数据（形状为[1000, 1, 28, 28]）\n",
    "images = torch.randn(num_samples, 1, image_size[0], image_size[1])\n",
    "\n",
    "# 随机生成标签（假设是10类分类任务，标签范围是0-9）\n",
    "labels = torch.randint(0, 10, (num_samples,))"
   ]
  },
  {
   "cell_type": "code",
   "execution_count": 32,
   "id": "3822b0f0-ec75-4e8d-9b27-4d1f4f7de709",
   "metadata": {},
   "outputs": [],
   "source": [
    "# 将数据放入TensorDataset中，并使用DataLoader加载\n",
    "dataset = TensorDataset(images, labels)\n",
    "train_loader = DataLoader(dataset, batch_size=256, shuffle=True)"
   ]
  },
  {
   "cell_type": "code",
   "execution_count": null,
   "id": "78c6b66d-b65c-4ce3-bc03-de5dfe572551",
   "metadata": {},
   "outputs": [],
   "source": [
    "# 初始化模型、损失函数和优化器\n",
    "model = SimpleCNN().cuda()  # 将模型放置在GPU上\n",
    "criterion = nn.CrossEntropyLoss()\n",
    "optimizer = optim.Adam(model.parameters(), lr=0.001)\n",
    "\n",
    "# 初始化 GradScaler 用于自动混合精度\n",
    "scaler = GradScaler()"
   ]
  },
  {
   "cell_type": "code",
   "execution_count": null,
   "id": "7861ae4a-77a7-4dd9-9be4-a7e800aa7140",
   "metadata": {},
   "outputs": [],
   "source": [
    "# 记录训练开始时间\n",
    "start_time = time.time()\n",
    "# 训练循环\n",
    "num_epochs = 10\n",
    "for epoch in range(num_epochs):\n",
    "    model.train()\n",
    "    running_loss = 0.0\n",
    "    for inputs, labels in train_loader:\n",
    "        inputs, labels = inputs.cuda(), labels.cuda()\n",
    "\n",
    "        # 自动混合精度训练\n",
    "        optimizer.zero_grad()\n",
    "\n",
    "        with autocast():  # 开启FP16自动混合精度\n",
    "            outputs = model(inputs)\n",
    "            loss = criterion(outputs, labels)\n",
    "\n",
    "        # 缩放损失，进行反向传播\n",
    "        scaler.scale(loss).backward()\n",
    "\n",
    "        # 使用Scaler更新优化器\n",
    "        scaler.step(optimizer)\n",
    "        scaler.update()\n",
    "\n",
    "        running_loss += loss.item()\n",
    "\n",
    "    print(f\"Epoch [{epoch+1}/{num_epochs}], Loss: {running_loss / len(train_loader)}\")\n",
    "# 计算并打印训练总时间\n",
    "end_time = time.time()\n",
    "training_time = end_time - start_time\n",
    "print(f\"Training time: {training_time:.2f} seconds\")"
   ]
  },
  {
   "cell_type": "code",
   "execution_count": null,
   "id": "0d79df58-6d63-4127-8d2a-526acdbd6c5d",
   "metadata": {},
   "outputs": [],
   "source": []
  }
 ],
 "metadata": {
  "kernelspec": {
   "display_name": "Python 3 (ipykernel)",
   "language": "python",
   "name": "python3"
  },
  "language_info": {
   "codemirror_mode": {
    "name": "ipython",
    "version": 3
   },
   "file_extension": ".py",
   "mimetype": "text/x-python",
   "name": "python",
   "nbconvert_exporter": "python",
   "pygments_lexer": "ipython3",
   "version": "3.10.9"
  }
 },
 "nbformat": 4,
 "nbformat_minor": 5
}
