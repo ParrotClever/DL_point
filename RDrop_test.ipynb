{
 "cells": [
  {
   "cell_type": "code",
   "execution_count": 4,
   "id": "4df45096-5631-4d2a-acf8-db9d448ad728",
   "metadata": {},
   "outputs": [],
   "source": [
    "import torch\n",
    "import torch.nn as nn\n",
    "import torch.optim as optim\n",
    "from sklearn.datasets import load_breast_cancer\n",
    "from sklearn.model_selection import train_test_split\n",
    "from sklearn.preprocessing import StandardScaler\n",
    "from sklearn import metrics\n",
    "import numpy as np"
   ]
  },
  {
   "cell_type": "code",
   "execution_count": 5,
   "id": "16332892-9723-4f6d-b3e3-91500aba7fec",
   "metadata": {},
   "outputs": [],
   "source": [
    "# 加载数据集\n",
    "data = load_breast_cancer()\n",
    "X = data.data\n",
    "y = data.target\n",
    "\n",
    "# 数据标准化\n",
    "scaler = StandardScaler()\n",
    "X_scaled = scaler.fit_transform(X)\n",
    "\n",
    "# 数据集划分\n",
    "X_train, X_test, y_train, y_test = train_test_split(X_scaled, y, test_size=0.3, random_state=42)\n",
    "\n",
    "# 将数据转换为 PyTorch 张量\n",
    "X_train_tensor = torch.tensor(X_train, dtype=torch.float32)\n",
    "y_train_tensor = torch.tensor(y_train, dtype=torch.long)\n",
    "X_test_tensor = torch.tensor(X_test, dtype=torch.float32)\n",
    "y_test_tensor = torch.tensor(y_test, dtype=torch.long)"
   ]
  },
  {
   "cell_type": "code",
   "execution_count": 6,
   "id": "46d9a859-65d3-4baf-9190-f5f484acc7cc",
   "metadata": {},
   "outputs": [],
   "source": [
    "# 构建简单的二分类模型，加入Dropout层\n",
    "class SimpleNN(nn.Module):\n",
    "    def __init__(self, input_dim, dropout_prob=0.5):\n",
    "        super(SimpleNN, self).__init__()\n",
    "        self.fc1 = nn.Linear(input_dim, 64)\n",
    "        self.fc2 = nn.Linear(64, 32)\n",
    "        self.fc3 = nn.Linear(32, 2)\n",
    "        self.dropout = nn.Dropout(dropout_prob)  # Dropout层\n",
    "\n",
    "    def forward(self, x):\n",
    "        x = torch.relu(self.fc1(x))\n",
    "        x = self.dropout(x)  # 在fc1和fc2之间加入Dropout\n",
    "        x = torch.relu(self.fc2(x))\n",
    "        x = self.dropout(x)  # 在fc2和fc3之间加入Dropout\n",
    "        x = self.fc3(x)\n",
    "        return x"
   ]
  },
  {
   "cell_type": "code",
   "execution_count": 7,
   "id": "79e2ca35-e6af-4bb5-baf0-dce49209ede8",
   "metadata": {},
   "outputs": [],
   "source": [
    "# 定义R-Drop损失\n",
    "def rdrop_loss(output1, output2, target, alpha=0.5):\n",
    "    # 计算交叉熵损失\n",
    "    ce_loss = nn.CrossEntropyLoss()(output1, target)\n",
    "    # 计算KL散度\n",
    "    kl_div = nn.KLDivLoss(reduction='batchmean')(torch.log_softmax(output1, dim=1), torch.softmax(output2, dim=1))\n",
    "    return ce_loss + alpha * kl_div"
   ]
  },
  {
   "cell_type": "code",
   "execution_count": 8,
   "id": "34b7bcee-2d1c-4463-8ca8-54799cc58739",
   "metadata": {},
   "outputs": [],
   "source": [
    "# 初始化模型, 定义损失函数和优化器\n",
    "model = SimpleNN(X_train.shape[1])  # 输入维度为特征数量\n",
    "optimizer = optim.Adam(model.parameters(), lr=0.001)  # Adam优化器"
   ]
  },
  {
   "cell_type": "code",
   "execution_count": null,
   "id": "026a9ad0-963e-4525-890e-7d981dd554fa",
   "metadata": {},
   "outputs": [],
   "source": []
  }
 ],
 "metadata": {
  "kernelspec": {
   "display_name": "Python 3 (ipykernel)",
   "language": "python",
   "name": "python3"
  },
  "language_info": {
   "codemirror_mode": {
    "name": "ipython",
    "version": 3
   },
   "file_extension": ".py",
   "mimetype": "text/x-python",
   "name": "python",
   "nbconvert_exporter": "python",
   "pygments_lexer": "ipython3",
   "version": "3.11.5"
  }
 },
 "nbformat": 4,
 "nbformat_minor": 5
}
